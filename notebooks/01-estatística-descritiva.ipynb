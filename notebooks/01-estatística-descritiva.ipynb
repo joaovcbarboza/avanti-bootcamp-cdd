{
 "cells": [
  {
   "cell_type": "code",
   "execution_count": null,
   "metadata": {},
   "outputs": [],
   "source": [
    "import seaborn as sns\n",
    "import pandas as pd\n",
    "\n",
    "df = sns.load_dataset('titanic')\n",
    "df\n"
   ]
  },
  {
   "cell_type": "code",
   "execution_count": null,
   "metadata": {},
   "outputs": [],
   "source": [
    "variaveis = [\n",
    "      {\n",
    "        'variavel': 'survived',\n",
    "        'descricao': 'se a pessoa sobreviveu',\n",
    "        'tipo': 'qualitativa',\n",
    "        'subtipo': 'ordinal'\n",
    "      },\n",
    "      {\n",
    "        'variavel': 'pclass',\n",
    "        'descricao': 'a classe em que se localiza',\n",
    "        'tipo': 'qualitativa',\n",
    "        'subtipo': 'ordinal'\n",
    "      },\n",
    "      {\n",
    "        'variavel': 'sex',\n",
    "        'descricao': 'sexo do individuo',\n",
    "        'tipo': 'qualitativa',\n",
    "        'subtipo': 'nominal'\n",
    "      },\n",
    "      {\n",
    "        'variavel': 'age',\n",
    "        'descricao': 'idade do individuo',\n",
    "        'tipo': 'quantitativa',\n",
    "        'subtipo': 'discreta'\n",
    "      },\n",
    "      {\n",
    "        'variavel': 'sibsp',\n",
    "        'descricao': '',\n",
    "        'tipo': 'qualitativa',\n",
    "        'subtipo': 'ordinal'\n",
    "      },\n",
    "      {\n",
    "        'variavel': 'parch',\n",
    "        'descricao': '',\n",
    "        'tipo': 'qualitativa',\n",
    "        'subtipo': 'ordinal'\n",
    "      },\n",
    "      {\n",
    "        'variavel': 'fare',\n",
    "        'descricao': 'tarifa',\n",
    "        'tipo': 'quantitativa',\n",
    "        'subtipo': 'continiua'\n",
    "      },\n",
    "      {\n",
    "        'variavel': 'embarked',\n",
    "        'descricao': 'localizacao do embarque',\n",
    "        'tipo': 'qualitativa',\n",
    "        'subtipo': 'nominal'\n",
    "      },\n",
    "      {\n",
    "        'variavel': 'class',\n",
    "        'descricao': 'classe da pessoa',\n",
    "        'tipo': 'qualitativa',\n",
    "        'subtipo': 'ordinal'\n",
    "      },\n",
    "      {\n",
    "        'variavel': 'who',\n",
    "        'descricao': 'homem, mulher ou crianca',\n",
    "        'tipo': 'qualitativa',\n",
    "        'subtipo': 'nominal'\n",
    "      },\n",
    "      {\n",
    "        'variavel': 'adult_male',\n",
    "        'descricao': 'homem adulto',\n",
    "        'tipo': 'qualitativa',\n",
    "        'subtipo': 'nominal'\n",
    "      },\n",
    "      {\n",
    "        'variavel': 'deck',\n",
    "        'descricao': 'localizacao do deck',\n",
    "        'tipo': 'qualitativa',\n",
    "        'subtipo': 'nominal'\n",
    "      },\n",
    "      {\n",
    "        'variavel': 'embark_town',\n",
    "        'descricao': 'cidade de embarque',\n",
    "        'tipo': 'qualitativa',\n",
    "        'subtipo': 'nominal'\n",
    "      },\n",
    "      {\n",
    "        'variavel': 'alive',\n",
    "        'descricao': 'se vivo ou nao',\n",
    "        'tipo': 'qualitativa',\n",
    "        'subtipo': 'nominal'\n",
    "      },\n",
    "      {\n",
    "        'variavel': 'alone',\n",
    "        'descricao': 'se a pessoa estava acompanhada',\n",
    "        'tipo': 'qualitativa',\n",
    "        'subtipo': 'nominal'\n",
    "      }\n",
    "]\n",
    "\n",
    "df_dict = pd.DataFrame(variaveis)\n",
    "print(df_dict)"
   ]
  },
  {
   "cell_type": "code",
   "execution_count": null,
   "metadata": {},
   "outputs": [],
   "source": [
    "## estatisticas dos dados\n",
    "\n",
    "## variaveis qualitativas\n",
    "\n",
    "df[['survived','pclass','sex','embarked','class','who','adult_male','deck','embark_town','alive','alone']].mode()\n"
   ]
  },
  {
   "cell_type": "code",
   "execution_count": null,
   "metadata": {},
   "outputs": [],
   "source": [
    "## variaveis quantitativas\n",
    "\n",
    "df.describe()"
   ]
  },
  {
   "cell_type": "code",
   "execution_count": null,
   "metadata": {},
   "outputs": [],
   "source": [
    "df.describe"
   ]
  },
  {
   "cell_type": "code",
   "execution_count": null,
   "metadata": {},
   "outputs": [],
   "source": [
    "df[['age','fare']].median()"
   ]
  },
  {
   "cell_type": "code",
   "execution_count": null,
   "metadata": {},
   "outputs": [],
   "source": [
    "qualitativa_variaveis = ['survived', 'pclass', 'sex', 'embarked', 'who', 'adult_male', 'embark_town', 'alive', 'alone']\n",
    "\n",
    "for variavel in qualitativa_variaveis:\n",
    "    valores_unicos = df[variavel].unique()\n",
    "    for valor in valores_unicos:\n",
    "        print(f'Variável: {variavel}, Valor: {valor}')\n",
    "        subamostra = df[df[variavel] == valor]\n",
    "        display(subamostra.describe())"
   ]
  },
  {
   "cell_type": "code",
   "execution_count": null,
   "metadata": {},
   "outputs": [],
   "source": [
    "resultado_consulta = df.query(\"embark_town == 'Cherbourg'\").describe()\n",
    "print(resultado_consulta)"
   ]
  },
  {
   "cell_type": "code",
   "execution_count": null,
   "metadata": {},
   "outputs": [],
   "source": [
    "resultado_consulta = df.query(\"sex == 'male'\").describe()\n",
    "print(resultado_consulta)"
   ]
  },
  {
   "cell_type": "code",
   "execution_count": null,
   "metadata": {},
   "outputs": [],
   "source": [
    "resultado_consulta = df.query(\"class == 'Third'\").describe()\n",
    "print(resultado_consulta)"
   ]
  }
 ],
 "metadata": {
  "language_info": {
   "name": "python"
  }
 },
 "nbformat": 4,
 "nbformat_minor": 2
}
